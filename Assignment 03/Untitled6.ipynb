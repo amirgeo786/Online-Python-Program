{
 "cells": [
  {
   "cell_type": "code",
   "execution_count": 1,
   "id": "7a968f28",
   "metadata": {},
   "outputs": [
    {
     "ename": "NameError",
     "evalue": "name 'Amir' is not defined",
     "output_type": "error",
     "traceback": [
      "\u001b[1;31m---------------------------------------------------------------------------\u001b[0m",
      "\u001b[1;31mNameError\u001b[0m                                 Traceback (most recent call last)",
      "\u001b[1;32m<ipython-input-1-85335c13a0e6>\u001b[0m in \u001b[0;36m<module>\u001b[1;34m\u001b[0m\n\u001b[1;32m----> 1\u001b[1;33m \u001b[0mprint\u001b[0m\u001b[1;33m(\u001b[0m\u001b[0mAmir\u001b[0m\u001b[1;33m)\u001b[0m\u001b[1;33m;\u001b[0m\u001b[1;33m\u001b[0m\u001b[1;33m\u001b[0m\u001b[0m\n\u001b[0m",
      "\u001b[1;31mNameError\u001b[0m: name 'Amir' is not defined"
     ]
    }
   ],
   "source": [
    "print(Amir);"
   ]
  },
  {
   "cell_type": "code",
   "execution_count": 2,
   "id": "a7ad4af7",
   "metadata": {},
   "outputs": [
    {
     "name": "stdout",
     "output_type": "stream",
     "text": [
      "amir\n"
     ]
    }
   ],
   "source": [
    "print(\"amir\");"
   ]
  },
  {
   "cell_type": "code",
   "execution_count": 3,
   "id": "c6c1b9a3",
   "metadata": {},
   "outputs": [
    {
     "name": "stdout",
     "output_type": "stream",
     "text": [
      "5\n"
     ]
    }
   ],
   "source": [
    "a=2\n",
    "b=3\n",
    "c= a + b\n",
    "print (c);"
   ]
  },
  {
   "cell_type": "code",
   "execution_count": 4,
   "id": "3227b495",
   "metadata": {},
   "outputs": [
    {
     "name": "stdout",
     "output_type": "stream",
     "text": [
      "5\n"
     ]
    }
   ],
   "source": [
    "print (c);"
   ]
  },
  {
   "cell_type": "code",
   "execution_count": 5,
   "id": "45e2452f",
   "metadata": {},
   "outputs": [
    {
     "name": "stdout",
     "output_type": "stream",
     "text": [
      "c\n"
     ]
    }
   ],
   "source": [
    "print (\"c\");"
   ]
  },
  {
   "cell_type": "code",
   "execution_count": 6,
   "id": "ef4e2a6d",
   "metadata": {},
   "outputs": [
    {
     "ename": "NameError",
     "evalue": "name 'isl' is not defined",
     "output_type": "error",
     "traceback": [
      "\u001b[1;31m---------------------------------------------------------------------------\u001b[0m",
      "\u001b[1;31mNameError\u001b[0m                                 Traceback (most recent call last)",
      "\u001b[1;32m<ipython-input-6-244fc228830b>\u001b[0m in \u001b[0;36m<module>\u001b[1;34m\u001b[0m\n\u001b[0;32m      2\u001b[0m \u001b[0mMath\u001b[0m \u001b[1;33m=\u001b[0m \u001b[1;36m85\u001b[0m\u001b[1;33m\u001b[0m\u001b[1;33m\u001b[0m\u001b[0m\n\u001b[0;32m      3\u001b[0m \u001b[0mEng\u001b[0m \u001b[1;33m=\u001b[0m \u001b[1;36m70\u001b[0m\u001b[1;33m\u001b[0m\u001b[1;33m\u001b[0m\u001b[0m\n\u001b[1;32m----> 4\u001b[1;33m \u001b[0mObtain_Marks\u001b[0m \u001b[1;33m=\u001b[0m \u001b[0misl\u001b[0m \u001b[1;33m+\u001b[0m \u001b[0mMath\u001b[0m \u001b[1;33m+\u001b[0m \u001b[0mEng\u001b[0m\u001b[1;33m\u001b[0m\u001b[1;33m\u001b[0m\u001b[0m\n\u001b[0m\u001b[0;32m      5\u001b[0m \u001b[0mTotal_Marks\u001b[0m \u001b[1;33m=\u001b[0m \u001b[1;36m300\u001b[0m\u001b[1;33m\u001b[0m\u001b[1;33m\u001b[0m\u001b[0m\n\u001b[0;32m      6\u001b[0m \u001b[0mPercentage\u001b[0m \u001b[1;33m=\u001b[0m \u001b[0mObtain_Marks\u001b[0m\u001b[1;33m/\u001b[0m\u001b[0mTotal_Marks\u001b[0m \u001b[1;33m*\u001b[0m \u001b[1;36m100\u001b[0m\u001b[1;33m\u001b[0m\u001b[1;33m\u001b[0m\u001b[0m\n",
      "\u001b[1;31mNameError\u001b[0m: name 'isl' is not defined"
     ]
    }
   ],
   "source": [
    "Isl = 80\n",
    "Math = 85\n",
    "Eng = 70\n",
    "Obtain_Marks = isl + Math + Eng\n",
    "Total_Marks = 300\n",
    "Percentage = Obtain_Marks/Total_Marks * 100\n",
    "print (percentage);"
   ]
  },
  {
   "cell_type": "code",
   "execution_count": 7,
   "id": "c0ba2f43",
   "metadata": {},
   "outputs": [
    {
     "ename": "NameError",
     "evalue": "name 'percentage' is not defined",
     "output_type": "error",
     "traceback": [
      "\u001b[1;31m---------------------------------------------------------------------------\u001b[0m",
      "\u001b[1;31mNameError\u001b[0m                                 Traceback (most recent call last)",
      "\u001b[1;32m<ipython-input-7-caadc7c9a9e2>\u001b[0m in \u001b[0;36m<module>\u001b[1;34m\u001b[0m\n\u001b[0;32m      5\u001b[0m \u001b[0mTotal_Marks\u001b[0m \u001b[1;33m=\u001b[0m \u001b[1;36m300\u001b[0m\u001b[1;33m\u001b[0m\u001b[1;33m\u001b[0m\u001b[0m\n\u001b[0;32m      6\u001b[0m \u001b[0mPercentage\u001b[0m \u001b[1;33m=\u001b[0m \u001b[0mObtain_Marks\u001b[0m\u001b[1;33m/\u001b[0m\u001b[0mTotal_Marks\u001b[0m \u001b[1;33m*\u001b[0m \u001b[1;36m100\u001b[0m\u001b[1;33m\u001b[0m\u001b[1;33m\u001b[0m\u001b[0m\n\u001b[1;32m----> 7\u001b[1;33m \u001b[0mprint\u001b[0m \u001b[1;33m(\u001b[0m\u001b[0mpercentage\u001b[0m\u001b[1;33m)\u001b[0m\u001b[1;33m;\u001b[0m\u001b[1;33m\u001b[0m\u001b[1;33m\u001b[0m\u001b[0m\n\u001b[0m",
      "\u001b[1;31mNameError\u001b[0m: name 'percentage' is not defined"
     ]
    }
   ],
   "source": [
    "Isl = 80\n",
    "Math = 85\n",
    "Eng = 70\n",
    "Obtain_Marks = Isl + Math + Eng\n",
    "Total_Marks = 300\n",
    "Percentage = Obtain_Marks/Total_Marks * 100\n",
    "print (percentage);"
   ]
  },
  {
   "cell_type": "code",
   "execution_count": 8,
   "id": "0083a9f8",
   "metadata": {},
   "outputs": [
    {
     "name": "stdout",
     "output_type": "stream",
     "text": [
      "78.33333333333333\n"
     ]
    }
   ],
   "source": [
    "Isl = 80\n",
    "Math = 85\n",
    "Eng = 70\n",
    "Obtain_Marks = Isl + Math + Eng\n",
    "Total_Marks = 300\n",
    "Percentage = Obtain_Marks/Total_Marks * 100\n",
    "print (Percentage);"
   ]
  },
  {
   "cell_type": "code",
   "execution_count": 9,
   "id": "8c9ca8de",
   "metadata": {},
   "outputs": [
    {
     "ename": "SyntaxError",
     "evalue": "invalid syntax (<ipython-input-9-a9bdf25b196e>, line 8)",
     "output_type": "error",
     "traceback": [
      "\u001b[1;36m  File \u001b[1;32m\"<ipython-input-9-a9bdf25b196e>\"\u001b[1;36m, line \u001b[1;32m8\u001b[0m\n\u001b[1;33m    if Percentage <100 and >80:\u001b[0m\n\u001b[1;37m                           ^\u001b[0m\n\u001b[1;31mSyntaxError\u001b[0m\u001b[1;31m:\u001b[0m invalid syntax\n"
     ]
    }
   ],
   "source": [
    "Isl = 80\n",
    "Math = 85\n",
    "Eng = 80\n",
    "Obtain_Marks = Isl + Math + Eng\n",
    "Total_Marks = 300\n",
    "Percentage = Obtain_Marks/Total_Marks * 100\n",
    "print (Percentage);\n",
    "if Percentage <100 and >80:\n",
    "    print(\"Grade A1\");"
   ]
  },
  {
   "cell_type": "code",
   "execution_count": 11,
   "id": "c0906928",
   "metadata": {},
   "outputs": [
    {
     "ename": "SyntaxError",
     "evalue": "invalid syntax (<ipython-input-11-5d5cf707c168>, line 8)",
     "output_type": "error",
     "traceback": [
      "\u001b[1;36m  File \u001b[1;32m\"<ipython-input-11-5d5cf707c168>\"\u001b[1;36m, line \u001b[1;32m8\u001b[0m\n\u001b[1;33m    if Percentage <100 and >80:\u001b[0m\n\u001b[1;37m                           ^\u001b[0m\n\u001b[1;31mSyntaxError\u001b[0m\u001b[1;31m:\u001b[0m invalid syntax\n"
     ]
    }
   ],
   "source": [
    "Isl = 80\n",
    "Math = 85\n",
    "Eng = 80\n",
    "Obtain_Marks = Isl + Math + Eng\n",
    "Total_Marks = 300\n",
    "Percentage = Obtain_Marks/Total_Marks * 100\n",
    "print (Percentage);\n",
    "if Percentage <100 and >80:\n",
    "print(\"Grade A1\");"
   ]
  },
  {
   "cell_type": "code",
   "execution_count": 12,
   "id": "48aaf691",
   "metadata": {},
   "outputs": [
    {
     "name": "stdout",
     "output_type": "stream",
     "text": [
      "81.66666666666667\n",
      "Grade A1\n"
     ]
    }
   ],
   "source": [
    "Isl = 80\n",
    "Math = 85\n",
    "Eng = 80\n",
    "Obtain_Marks = Isl + Math + Eng\n",
    "Total_Marks = 300\n",
    "Percentage = Obtain_Marks/Total_Marks * 100\n",
    "print (Percentage);\n",
    "if Percentage <100 and Percentage >80:\n",
    "    print(\"Grade A1\");"
   ]
  },
  {
   "cell_type": "code",
   "execution_count": 13,
   "id": "c0880168",
   "metadata": {},
   "outputs": [
    {
     "ename": "SyntaxError",
     "evalue": "invalid syntax (<ipython-input-13-2d2714fb2cbb>, line 10)",
     "output_type": "error",
     "traceback": [
      "\u001b[1;36m  File \u001b[1;32m\"<ipython-input-13-2d2714fb2cbb>\"\u001b[1;36m, line \u001b[1;32m10\u001b[0m\n\u001b[1;33m    elif Percentage <80 and Percentage >70:\u001b[0m\n\u001b[1;37m    ^\u001b[0m\n\u001b[1;31mSyntaxError\u001b[0m\u001b[1;31m:\u001b[0m invalid syntax\n"
     ]
    }
   ],
   "source": [
    "Isl = 80\n",
    "Math = 85\n",
    "Eng = 80\n",
    "Obtain_Marks = Isl + Math + Eng\n",
    "Total_Marks = 300\n",
    "Percentage = Obtain_Marks/Total_Marks * 100\n",
    "print (Percentage);\n",
    "if Percentage <100 and Percentage >80:\n",
    "    print(\"Grade A1\");\n",
    "elif Percentage <80 and Percentage >70:\n",
    "        print(\"Grade A\");"
   ]
  },
  {
   "cell_type": "code",
   "execution_count": 14,
   "id": "c2a400a6",
   "metadata": {},
   "outputs": [
    {
     "name": "stdout",
     "output_type": "stream",
     "text": [
      "81.66666666666667\n",
      "Grade A1\n"
     ]
    }
   ],
   "source": [
    "Isl = 80\n",
    "Math = 85\n",
    "Eng = 80\n",
    "Obtain_Marks = Isl + Math + Eng\n",
    "Total_Marks = 300\n",
    "Percentage = Obtain_Marks/Total_Marks * 100\n",
    "print (Percentage);\n",
    "if Percentage <100 and Percentage >80:\n",
    "    print(\"Grade A1\");\n",
    "elif Percentage <80 and Percentage >70:\n",
    "    print(\"Grade A\");"
   ]
  },
  {
   "cell_type": "code",
   "execution_count": 15,
   "id": "8677f929",
   "metadata": {},
   "outputs": [
    {
     "ename": "SyntaxError",
     "evalue": "invalid syntax (<ipython-input-15-313e12d8e70a>, line 12)",
     "output_type": "error",
     "traceback": [
      "\u001b[1;36m  File \u001b[1;32m\"<ipython-input-15-313e12d8e70a>\"\u001b[1;36m, line \u001b[1;32m12\u001b[0m\n\u001b[1;33m    elif Percentage <70 and >60:\u001b[0m\n\u001b[1;37m                            ^\u001b[0m\n\u001b[1;31mSyntaxError\u001b[0m\u001b[1;31m:\u001b[0m invalid syntax\n"
     ]
    }
   ],
   "source": [
    "Isl = 80\n",
    "Math = 85\n",
    "Eng = 80\n",
    "Obtain_Marks = Isl + Math + Eng\n",
    "Total_Marks = 300\n",
    "Percentage = Obtain_Marks/Total_Marks * 100\n",
    "print (Percentage);\n",
    "if Percentage <100 and Percentage >80:\n",
    "    print(\"Grade A1\");\n",
    "elif Percentage <80 and Percentage >70:\n",
    "    print(\"Grade A\");\n",
    "elif Percentage <70 and Percentage >60:\n",
    "    print(\"Grade B\");\n",
    "else:\n",
    "    print(\"You are Fail\");"
   ]
  },
  {
   "cell_type": "code",
   "execution_count": 16,
   "id": "2b809e05",
   "metadata": {},
   "outputs": [
    {
     "name": "stdout",
     "output_type": "stream",
     "text": [
      "81.66666666666667\n",
      "Grade A1\n"
     ]
    }
   ],
   "source": [
    "Isl = 80\n",
    "Math = 85\n",
    "Eng = 80\n",
    "Obtain_Marks = Isl + Math + Eng\n",
    "Total_Marks = 300\n",
    "Percentage = Obtain_Marks/Total_Marks * 100\n",
    "print (Percentage);\n",
    "if Percentage <100 and Percentage >80:\n",
    "    print(\"Grade A1\");\n",
    "elif Percentage <80 and Percentage >70:\n",
    "    print(\"Grade A\");\n",
    "elif Percentage <70 and Percentage >60:\n",
    "    print(\"Grade B\");\n",
    "else:\n",
    "    print(\"You are Fail\");"
   ]
  },
  {
   "cell_type": "code",
   "execution_count": 17,
   "id": "d110a045",
   "metadata": {},
   "outputs": [
    {
     "name": "stdout",
     "output_type": "stream",
     "text": [
      "80\n",
      "85\n",
      "80\n",
      "245\n"
     ]
    },
    {
     "ename": "NameError",
     "evalue": "name 'Total' is not defined",
     "output_type": "error",
     "traceback": [
      "\u001b[1;31m---------------------------------------------------------------------------\u001b[0m",
      "\u001b[1;31mNameError\u001b[0m                                 Traceback (most recent call last)",
      "\u001b[1;32m<ipython-input-17-ad94f2afae55>\u001b[0m in \u001b[0;36m<module>\u001b[1;34m\u001b[0m\n\u001b[0;32m      9\u001b[0m \u001b[0mprint\u001b[0m\u001b[1;33m(\u001b[0m\u001b[0mEng\u001b[0m\u001b[1;33m)\u001b[0m\u001b[1;33m;\u001b[0m\u001b[1;33m\u001b[0m\u001b[1;33m\u001b[0m\u001b[0m\n\u001b[0;32m     10\u001b[0m \u001b[0mprint\u001b[0m\u001b[1;33m(\u001b[0m\u001b[0mObtain_Marks\u001b[0m\u001b[1;33m)\u001b[0m\u001b[1;33m;\u001b[0m\u001b[1;33m\u001b[0m\u001b[1;33m\u001b[0m\u001b[0m\n\u001b[1;32m---> 11\u001b[1;33m \u001b[0mprint\u001b[0m\u001b[1;33m(\u001b[0m\u001b[0mTotal\u001b[0m\u001b[1;33m)\u001b[0m\u001b[1;33m;\u001b[0m\u001b[1;33m\u001b[0m\u001b[1;33m\u001b[0m\u001b[0m\n\u001b[0m\u001b[0;32m     12\u001b[0m \u001b[0mprint\u001b[0m \u001b[1;33m(\u001b[0m\u001b[0mPercentage\u001b[0m\u001b[1;33m)\u001b[0m\u001b[1;33m;\u001b[0m\u001b[1;33m\u001b[0m\u001b[1;33m\u001b[0m\u001b[0m\n\u001b[0;32m     13\u001b[0m \u001b[1;32mif\u001b[0m \u001b[0mPercentage\u001b[0m \u001b[1;33m<\u001b[0m\u001b[1;36m100\u001b[0m \u001b[1;32mand\u001b[0m \u001b[0mPercentage\u001b[0m \u001b[1;33m>\u001b[0m\u001b[1;36m80\u001b[0m\u001b[1;33m:\u001b[0m\u001b[1;33m\u001b[0m\u001b[1;33m\u001b[0m\u001b[0m\n",
      "\u001b[1;31mNameError\u001b[0m: name 'Total' is not defined"
     ]
    }
   ],
   "source": [
    "Isl = 80\n",
    "Math = 85\n",
    "Eng = 80\n",
    "Obtain_Marks = Isl + Math + Eng\n",
    "Total_Marks = 300\n",
    "Percentage = Obtain_Marks/Total_Marks * 100\n",
    "print(Isl);\n",
    "print(Math);\n",
    "print(Eng);\n",
    "print(Obtain_Marks);\n",
    "print(Total_Marks);\n",
    "print (Percentage);\n",
    "if Percentage <100 and Percentage >80:\n",
    "    print(\"Grade A1\");\n",
    "elif Percentage <80 and Percentage >70:\n",
    "    print(\"Grade A\");\n",
    "elif Percentage <70 and Percentage >60:\n",
    "    print(\"Grade B\");\n",
    "else:\n",
    "    print(\"You are Fail\");"
   ]
  },
  {
   "cell_type": "code",
   "execution_count": 18,
   "id": "1e15180a",
   "metadata": {},
   "outputs": [
    {
     "name": "stdout",
     "output_type": "stream",
     "text": [
      "80\n",
      "85\n",
      "80\n",
      "245\n",
      "300\n",
      "81.66666666666667\n",
      "Grade A1\n"
     ]
    }
   ],
   "source": [
    "Isl = 80\n",
    "Math = 85\n",
    "Eng = 80\n",
    "Obtain_Marks = Isl + Math + Eng\n",
    "Total_Marks = 300\n",
    "Percentage = Obtain_Marks/Total_Marks * 100\n",
    "print(\"Isl 80\");\n",
    "print(Math);\n",
    "print(Eng);\n",
    "print(Obtain_Marks);\n",
    "print(Total_Marks);\n",
    "print (Percentage);\n",
    "if Percentage <100 and Percentage >80:\n",
    "    print(\"Grade A1\");\n",
    "elif Percentage <80 and Percentage >70:\n",
    "    print(\"Grade A\");\n",
    "elif Percentage <70 and Percentage >60:\n",
    "    print(\"Grade B\");\n",
    "else:\n",
    "    print(\"You are Fail\");"
   ]
  },
  {
   "cell_type": "code",
   "execution_count": 19,
   "id": "955233f8",
   "metadata": {},
   "outputs": [
    {
     "name": "stdout",
     "output_type": "stream",
     "text": [
      "Isl 80\n",
      "85\n",
      "80\n",
      "245\n",
      "300\n",
      "81.66666666666667\n",
      "Grade A1\n"
     ]
    }
   ],
   "source": [
    "Isl = 80\n",
    "Math = 85\n",
    "Eng = 80\n",
    "Obtain_Marks = Isl + Math + Eng\n",
    "Total_Marks = 300\n",
    "Percentage = Obtain_Marks/Total_Marks * 100\n",
    "print(\"Isl 80\");\n",
    "print(\"Math 85\");\n",
    "print(\"Eng 80\");\n",
    "print(Obtain_Marks);\n",
    "print(Total_Marks);\n",
    "print (Percentage);\n",
    "if Percentage <100 and Percentage >80:\n",
    "    print(\"Grade A1\");\n",
    "elif Percentage <80 and Percentage >70:\n",
    "    print(\"Grade A\");\n",
    "elif Percentage <70 and Percentage >60:\n",
    "    print(\"Grade B\");\n",
    "else:\n",
    "    print(\"You are Fail\");"
   ]
  },
  {
   "cell_type": "code",
   "execution_count": 20,
   "id": "5764e8da",
   "metadata": {},
   "outputs": [
    {
     "name": "stdout",
     "output_type": "stream",
     "text": [
      "Isl 80\n",
      "Math 85\n",
      "Eng 80\n",
      "245\n",
      "300\n",
      "81.66666666666667\n",
      "Grade A1\n"
     ]
    }
   ],
   "source": [
    "Isl = 80\n",
    "Math = 85\n",
    "Eng = 80\n",
    "Obtain_Marks = Isl + Math + Eng\n",
    "Total_Marks = 300\n",
    "Percentage = Obtain_Marks/Total_Marks * 100\n",
    "print(\"Isl 80\");\n",
    "print(\"Math 85\");\n",
    "print(\"Eng 80\");\n",
    "print(Obtain_Marks);\n",
    "print(Total_Marks);\n",
    "print (Percentage);\n",
    "if Percentage <100 and Percentage >80:\n",
    "    print(\"Grade A1\");\n",
    "elif Percentage <80 and Percentage >70:\n",
    "    print(\"Grade A\");\n",
    "elif Percentage <70 and Percentage >60:\n",
    "    print(\"Grade B\");\n",
    "else:\n",
    "    print(\"You are Fail\");"
   ]
  },
  {
   "cell_type": "code",
   "execution_count": 21,
   "id": "4dc81e3a",
   "metadata": {},
   "outputs": [
    {
     "name": "stdout",
     "output_type": "stream",
     "text": [
      "Isl 80\n",
      "Math 85\n",
      "Eng 60\n",
      "225\n",
      "300\n",
      "75.0\n",
      "Grade A\n"
     ]
    }
   ],
   "source": [
    "Isl = 80\n",
    "Math = 85\n",
    "Eng = 60\n",
    "Obtain_Marks = Isl + Math + Eng\n",
    "Total_Marks = 300\n",
    "Percentage = Obtain_Marks/Total_Marks * 100\n",
    "print(\"Isl 80\");\n",
    "print(\"Math 85\");\n",
    "print(\"Eng 60\");\n",
    "print(Obtain_Marks);\n",
    "print(Total_Marks);\n",
    "print (Percentage);\n",
    "if Percentage <100 and Percentage >80:\n",
    "    print(\"Grade A1\");\n",
    "elif Percentage <80 and Percentage >70:\n",
    "    print(\"Grade A\");\n",
    "elif Percentage <70 and Percentage >60:\n",
    "    print(\"Grade B\");\n",
    "else:\n",
    "    print(\"You are Fail\");"
   ]
  },
  {
   "cell_type": "code",
   "execution_count": 22,
   "id": "c33c9bd7",
   "metadata": {},
   "outputs": [
    {
     "name": "stdout",
     "output_type": "stream",
     "text": [
      "Isl 80\n",
      "Math 30\n",
      "Eng 60\n",
      "170\n",
      "300\n",
      "56.666666666666664\n",
      "You are Fail\n"
     ]
    }
   ],
   "source": [
    "Isl = 80\n",
    "Math = 30\n",
    "Eng = 60\n",
    "Obtain_Marks = Isl + Math + Eng\n",
    "Total_Marks = 300\n",
    "Percentage = Obtain_Marks/Total_Marks * 100\n",
    "print(\"Isl 80\");\n",
    "print(\"Math 30\");\n",
    "print(\"Eng 60\");\n",
    "print(Obtain_Marks);\n",
    "print(Total_Marks);\n",
    "print (Percentage);\n",
    "if Percentage <100 and Percentage >80:\n",
    "    print(\"Grade A1\");\n",
    "elif Percentage <80 and Percentage >70:\n",
    "    print(\"Grade A\");\n",
    "elif Percentage <70 and Percentage >60:\n",
    "    print(\"Grade B\");\n",
    "else:\n",
    "    print(\"You are Fail\");"
   ]
  },
  {
   "cell_type": "code",
   "execution_count": 23,
   "id": "0118d1ff",
   "metadata": {},
   "outputs": [
    {
     "ename": "SyntaxError",
     "evalue": "invalid syntax (<ipython-input-23-cf13c7a516d9>, line 2)",
     "output_type": "error",
     "traceback": [
      "\u001b[1;36m  File \u001b[1;32m\"<ipython-input-23-cf13c7a516d9>\"\u001b[1;36m, line \u001b[1;32m2\u001b[0m\n\u001b[1;33m    if gendre = female:\u001b[0m\n\u001b[1;37m              ^\u001b[0m\n\u001b[1;31mSyntaxError\u001b[0m\u001b[1;31m:\u001b[0m invalid syntax\n"
     ]
    }
   ],
   "source": [
    "gendre = female\n",
    "if gendre = female:\n",
    "    print(\"Allow\");\n",
    "else:\n",
    "    print (\"Not Allow\");"
   ]
  },
  {
   "cell_type": "code",
   "execution_count": 24,
   "id": "15e591d6",
   "metadata": {},
   "outputs": [
    {
     "ename": "NameError",
     "evalue": "name 'female' is not defined",
     "output_type": "error",
     "traceback": [
      "\u001b[1;31m---------------------------------------------------------------------------\u001b[0m",
      "\u001b[1;31mNameError\u001b[0m                                 Traceback (most recent call last)",
      "\u001b[1;32m<ipython-input-24-c62a7ec003a7>\u001b[0m in \u001b[0;36m<module>\u001b[1;34m\u001b[0m\n\u001b[1;32m----> 1\u001b[1;33m \u001b[0mgendre\u001b[0m \u001b[1;33m=\u001b[0m \u001b[0mfemale\u001b[0m\u001b[1;33m\u001b[0m\u001b[1;33m\u001b[0m\u001b[0m\n\u001b[0m\u001b[0;32m      2\u001b[0m \u001b[1;32mif\u001b[0m \u001b[0mgendre\u001b[0m \u001b[1;33m==\u001b[0m \u001b[0mfemale\u001b[0m\u001b[1;33m:\u001b[0m\u001b[1;33m\u001b[0m\u001b[1;33m\u001b[0m\u001b[0m\n\u001b[0;32m      3\u001b[0m     \u001b[0mprint\u001b[0m\u001b[1;33m(\u001b[0m\u001b[1;34m\"Allow\"\u001b[0m\u001b[1;33m)\u001b[0m\u001b[1;33m;\u001b[0m\u001b[1;33m\u001b[0m\u001b[1;33m\u001b[0m\u001b[0m\n\u001b[0;32m      4\u001b[0m \u001b[1;32melse\u001b[0m\u001b[1;33m:\u001b[0m\u001b[1;33m\u001b[0m\u001b[1;33m\u001b[0m\u001b[0m\n\u001b[0;32m      5\u001b[0m     \u001b[0mprint\u001b[0m \u001b[1;33m(\u001b[0m\u001b[1;34m\"Not Allow\"\u001b[0m\u001b[1;33m)\u001b[0m\u001b[1;33m;\u001b[0m\u001b[1;33m\u001b[0m\u001b[1;33m\u001b[0m\u001b[0m\n",
      "\u001b[1;31mNameError\u001b[0m: name 'female' is not defined"
     ]
    }
   ],
   "source": [
    "gendre = female\n",
    "if gendre == female:\n",
    "    print(\"Allow\");\n",
    "else:\n",
    "    print (\"Not Allow\");"
   ]
  },
  {
   "cell_type": "code",
   "execution_count": 25,
   "id": "638e3c21",
   "metadata": {},
   "outputs": [
    {
     "ename": "NameError",
     "evalue": "name 'female' is not defined",
     "output_type": "error",
     "traceback": [
      "\u001b[1;31m---------------------------------------------------------------------------\u001b[0m",
      "\u001b[1;31mNameError\u001b[0m                                 Traceback (most recent call last)",
      "\u001b[1;32m<ipython-input-25-5da534041590>\u001b[0m in \u001b[0;36m<module>\u001b[1;34m\u001b[0m\n\u001b[0;32m      1\u001b[0m \u001b[0mgendre\u001b[0m \u001b[1;33m=\u001b[0m \u001b[1;34m\"female\"\u001b[0m\u001b[1;33m\u001b[0m\u001b[1;33m\u001b[0m\u001b[0m\n\u001b[1;32m----> 2\u001b[1;33m \u001b[1;32mif\u001b[0m \u001b[0mgendre\u001b[0m \u001b[1;33m==\u001b[0m \u001b[0mfemale\u001b[0m\u001b[1;33m:\u001b[0m\u001b[1;33m\u001b[0m\u001b[1;33m\u001b[0m\u001b[0m\n\u001b[0m\u001b[0;32m      3\u001b[0m     \u001b[0mprint\u001b[0m\u001b[1;33m(\u001b[0m\u001b[1;34m\"Allow\"\u001b[0m\u001b[1;33m)\u001b[0m\u001b[1;33m;\u001b[0m\u001b[1;33m\u001b[0m\u001b[1;33m\u001b[0m\u001b[0m\n\u001b[0;32m      4\u001b[0m \u001b[1;32melse\u001b[0m\u001b[1;33m:\u001b[0m\u001b[1;33m\u001b[0m\u001b[1;33m\u001b[0m\u001b[0m\n\u001b[0;32m      5\u001b[0m     \u001b[0mprint\u001b[0m \u001b[1;33m(\u001b[0m\u001b[1;34m\"Not Allow\"\u001b[0m\u001b[1;33m)\u001b[0m\u001b[1;33m;\u001b[0m\u001b[1;33m\u001b[0m\u001b[1;33m\u001b[0m\u001b[0m\n",
      "\u001b[1;31mNameError\u001b[0m: name 'female' is not defined"
     ]
    }
   ],
   "source": [
    "gendre = \"female\"\n",
    "if gendre == female:\n",
    "    print(\"Allow\");\n",
    "else:\n",
    "    print (\"Not Allow\");"
   ]
  },
  {
   "cell_type": "code",
   "execution_count": 26,
   "id": "85614c34",
   "metadata": {},
   "outputs": [
    {
     "name": "stdout",
     "output_type": "stream",
     "text": [
      "Not Allow\n"
     ]
    }
   ],
   "source": [
    "gendre = \"female\"\n",
    "if gendre == \"male\":\n",
    "    print(\"Allow\");\n",
    "else:\n",
    "    print (\"Not Allow\");"
   ]
  },
  {
   "cell_type": "code",
   "execution_count": 27,
   "id": "2f0bc63a",
   "metadata": {},
   "outputs": [
    {
     "name": "stdout",
     "output_type": "stream",
     "text": [
      "enter english marks90\n",
      "enter isl marks 90\n",
      "enter math marks 90\n"
     ]
    }
   ],
   "source": [
    "eng = input (\"enter engl marks\");\n",
    "isl = input (\"enter isl marks\");\n",
    "math = input (\"enter math marks\");"
   ]
  },
  {
   "cell_type": "code",
   "execution_count": 28,
   "id": "e7d3e1b4",
   "metadata": {},
   "outputs": [
    {
     "name": "stdout",
     "output_type": "stream",
     "text": [
      "enter engl marks 90\n",
      "enter isl marks 90\n",
      "enter math marks 90\n"
     ]
    }
   ],
   "source": [
    "eng = input (\"eng marks\");\n",
    "isl = input (\"isl marks\");\n",
    "math = input (\"math marks\");"
   ]
  },
  {
   "cell_type": "code",
   "execution_count": 29,
   "id": "ffb14e29",
   "metadata": {},
   "outputs": [
    {
     "name": "stdout",
     "output_type": "stream",
     "text": [
      "eng marks 90\n",
      "isl marks 90\n",
      "math marks 90\n"
     ]
    }
   ],
   "source": [
    "eng = input (\"eng marks\");\n",
    "isl = input (\"isl marks\");\n",
    "math = input (\"math marks\");"
   ]
  },
  {
   "cell_type": "code",
   "execution_count": 30,
   "id": "cc798450",
   "metadata": {},
   "outputs": [
    {
     "name": "stdout",
     "output_type": "stream",
     "text": [
      "eng marks 90\n",
      "isl marks 90\n",
      "math marks 90\n"
     ]
    },
    {
     "ename": "TypeError",
     "evalue": "unsupported operand type(s) for /: 'str' and 'int'",
     "output_type": "error",
     "traceback": [
      "\u001b[1;31m---------------------------------------------------------------------------\u001b[0m",
      "\u001b[1;31mTypeError\u001b[0m                                 Traceback (most recent call last)",
      "\u001b[1;32m<ipython-input-30-0ff9400a1deb>\u001b[0m in \u001b[0;36m<module>\u001b[1;34m\u001b[0m\n\u001b[0;32m      4\u001b[0m \u001b[0mObtain_Marks\u001b[0m \u001b[1;33m=\u001b[0m \u001b[0misl\u001b[0m \u001b[1;33m+\u001b[0m \u001b[0mmath\u001b[0m \u001b[1;33m+\u001b[0m \u001b[0meng\u001b[0m\u001b[1;33m\u001b[0m\u001b[1;33m\u001b[0m\u001b[0m\n\u001b[0;32m      5\u001b[0m \u001b[0mTotal_Marks\u001b[0m \u001b[1;33m=\u001b[0m \u001b[1;36m300\u001b[0m\u001b[1;33m\u001b[0m\u001b[1;33m\u001b[0m\u001b[0m\n\u001b[1;32m----> 6\u001b[1;33m \u001b[0mPercentage\u001b[0m \u001b[1;33m=\u001b[0m \u001b[0mObtain_Marks\u001b[0m\u001b[1;33m/\u001b[0m\u001b[0mTotal_Marks\u001b[0m \u001b[1;33m*\u001b[0m \u001b[1;36m100\u001b[0m\u001b[1;33m\u001b[0m\u001b[1;33m\u001b[0m\u001b[0m\n\u001b[0m\u001b[0;32m      7\u001b[0m \u001b[0mprint\u001b[0m\u001b[1;33m(\u001b[0m\u001b[0mObtain_Marks\u001b[0m\u001b[1;33m)\u001b[0m\u001b[1;33m;\u001b[0m\u001b[1;33m\u001b[0m\u001b[1;33m\u001b[0m\u001b[0m\n\u001b[0;32m      8\u001b[0m \u001b[0mprint\u001b[0m\u001b[1;33m(\u001b[0m\u001b[0mTotal_Marks\u001b[0m\u001b[1;33m)\u001b[0m\u001b[1;33m;\u001b[0m\u001b[1;33m\u001b[0m\u001b[1;33m\u001b[0m\u001b[0m\n",
      "\u001b[1;31mTypeError\u001b[0m: unsupported operand type(s) for /: 'str' and 'int'"
     ]
    }
   ],
   "source": [
    "eng = input (\"eng marks\");\n",
    "isl = input (\"isl marks\");\n",
    "math = input (\"math marks\");\n",
    "Obtain_Marks = eng + isl + math;\n",
    "Total_Marks = 300\n",
    "Percentage = Obtain_Marks/Total_Marks * 100\n",
    "print(Obtain_Marks);\n",
    "print(Total_Marks);\n",
    "print (Percentage);\n",
    "if Percentage <100 and Percentage >80:\n",
    "    print(\"Grade A1\");\n",
    "elif Percentage <80 and Percentage >70:\n",
    "    print(\"Grade A\");\n",
    "elif Percentage <70 and Percentage >60:\n",
    "    print(\"Grade B\");\n",
    "else:\n",
    "    print(\"You are Fail\");"
   ]
  },
  {
   "cell_type": "code",
   "execution_count": 32,
   "id": "f2eecec2",
   "metadata": {},
   "outputs": [
    {
     "name": "stdout",
     "output_type": "stream",
     "text": [
      "eng marks90\n",
      "isl marks90\n",
      "math marks90\n"
     ]
    },
    {
     "ename": "TypeError",
     "evalue": "unsupported operand type(s) for /: 'str' and 'int'",
     "output_type": "error",
     "traceback": [
      "\u001b[1;31m---------------------------------------------------------------------------\u001b[0m",
      "\u001b[1;31mTypeError\u001b[0m                                 Traceback (most recent call last)",
      "\u001b[1;32m<ipython-input-32-1b6fed1a7438>\u001b[0m in \u001b[0;36m<module>\u001b[1;34m\u001b[0m\n\u001b[0;32m      4\u001b[0m \u001b[0mObtain_Marks\u001b[0m \u001b[1;33m=\u001b[0m \u001b[0meng\u001b[0m \u001b[1;33m+\u001b[0m \u001b[0misl\u001b[0m \u001b[1;33m+\u001b[0m \u001b[0mmath\u001b[0m\u001b[1;33m;\u001b[0m\u001b[1;33m\u001b[0m\u001b[1;33m\u001b[0m\u001b[0m\n\u001b[0;32m      5\u001b[0m \u001b[0mTotal_Marks\u001b[0m \u001b[1;33m=\u001b[0m \u001b[1;36m300\u001b[0m\u001b[1;33m;\u001b[0m\u001b[1;33m\u001b[0m\u001b[1;33m\u001b[0m\u001b[0m\n\u001b[1;32m----> 6\u001b[1;33m \u001b[0mPercentage\u001b[0m \u001b[1;33m=\u001b[0m \u001b[0mObtain_Marks\u001b[0m\u001b[1;33m/\u001b[0m\u001b[0mTotal_Marks\u001b[0m \u001b[1;33m*\u001b[0m \u001b[1;36m100\u001b[0m\u001b[1;33m\u001b[0m\u001b[1;33m\u001b[0m\u001b[0m\n\u001b[0m\u001b[0;32m      7\u001b[0m \u001b[0mprint\u001b[0m\u001b[1;33m(\u001b[0m\u001b[0mObtain_Marks\u001b[0m\u001b[1;33m)\u001b[0m\u001b[1;33m;\u001b[0m\u001b[1;33m\u001b[0m\u001b[1;33m\u001b[0m\u001b[0m\n\u001b[0;32m      8\u001b[0m \u001b[0mprint\u001b[0m\u001b[1;33m(\u001b[0m\u001b[0mTotal_Marks\u001b[0m\u001b[1;33m)\u001b[0m\u001b[1;33m;\u001b[0m\u001b[1;33m\u001b[0m\u001b[1;33m\u001b[0m\u001b[0m\n",
      "\u001b[1;31mTypeError\u001b[0m: unsupported operand type(s) for /: 'str' and 'int'"
     ]
    }
   ],
   "source": [
    "eng = input (\"eng marks\");\n",
    "isl = input (\"isl marks\");\n",
    "math = input (\"math marks\");\n",
    "Obtain_Marks = eng + isl + math;\n",
    "Total_Marks = 300;\n",
    "Percentage = Obtain_Marks/Total_Marks * 100\n",
    "print(Obtain_Marks);\n",
    "print(Total_Marks);\n",
    "print (Percentage);\n",
    "if Percentage <100 and Percentage >80:\n",
    "    print(\"Grade A1\");\n",
    "elif Percentage <80 and Percentage >70:\n",
    "    print(\"Grade A\");\n",
    "elif Percentage <70 and Percentage >60:\n",
    "    print(\"Grade B\");\n",
    "else:\n",
    "    print(\"You are Fail\");"
   ]
  },
  {
   "cell_type": "code",
   "execution_count": 33,
   "id": "3a3ef9a7",
   "metadata": {},
   "outputs": [
    {
     "name": "stdout",
     "output_type": "stream",
     "text": [
      "eng 90\n",
      "isl 90\n",
      "math 90\n"
     ]
    },
    {
     "ename": "TypeError",
     "evalue": "unsupported operand type(s) for /: 'str' and 'int'",
     "output_type": "error",
     "traceback": [
      "\u001b[1;31m---------------------------------------------------------------------------\u001b[0m",
      "\u001b[1;31mTypeError\u001b[0m                                 Traceback (most recent call last)",
      "\u001b[1;32m<ipython-input-33-2bdc1d6dc845>\u001b[0m in \u001b[0;36m<module>\u001b[1;34m\u001b[0m\n\u001b[0;32m      4\u001b[0m \u001b[0mObtain_Marks\u001b[0m \u001b[1;33m=\u001b[0m \u001b[0meng\u001b[0m \u001b[1;33m+\u001b[0m \u001b[0misl\u001b[0m \u001b[1;33m+\u001b[0m \u001b[0mmath\u001b[0m\u001b[1;33m;\u001b[0m\u001b[1;33m\u001b[0m\u001b[1;33m\u001b[0m\u001b[0m\n\u001b[0;32m      5\u001b[0m \u001b[0mTotal_Marks\u001b[0m \u001b[1;33m=\u001b[0m \u001b[1;36m300\u001b[0m\u001b[1;33m;\u001b[0m\u001b[1;33m\u001b[0m\u001b[1;33m\u001b[0m\u001b[0m\n\u001b[1;32m----> 6\u001b[1;33m \u001b[0mPercentage\u001b[0m \u001b[1;33m=\u001b[0m \u001b[0mObtain_Marks\u001b[0m\u001b[1;33m/\u001b[0m\u001b[0mTotal_Marks\u001b[0m \u001b[1;33m*\u001b[0m \u001b[1;36m100\u001b[0m\u001b[1;33m\u001b[0m\u001b[1;33m\u001b[0m\u001b[0m\n\u001b[0m\u001b[0;32m      7\u001b[0m \u001b[0mprint\u001b[0m\u001b[1;33m(\u001b[0m\u001b[0mObtain_Marks\u001b[0m\u001b[1;33m)\u001b[0m\u001b[1;33m;\u001b[0m\u001b[1;33m\u001b[0m\u001b[1;33m\u001b[0m\u001b[0m\n\u001b[0;32m      8\u001b[0m \u001b[0mprint\u001b[0m\u001b[1;33m(\u001b[0m\u001b[0mTotal_Marks\u001b[0m\u001b[1;33m)\u001b[0m\u001b[1;33m;\u001b[0m\u001b[1;33m\u001b[0m\u001b[1;33m\u001b[0m\u001b[0m\n",
      "\u001b[1;31mTypeError\u001b[0m: unsupported operand type(s) for /: 'str' and 'int'"
     ]
    }
   ],
   "source": [
    "eng = input (\"eng\");\n",
    "isl = input (\"isl\");\n",
    "math = input (\"math\");\n",
    "Obtain_Marks = eng + isl + math;\n",
    "Total_Marks = 300;\n",
    "Percentage = Obtain_Marks/Total_Marks * 100\n",
    "print(Obtain_Marks);\n",
    "print(Total_Marks);\n",
    "print (Percentage);\n",
    "if Percentage <100 and Percentage >80:\n",
    "    print(\"Grade A1\");\n",
    "elif Percentage <80 and Percentage >70:\n",
    "    print(\"Grade A\");\n",
    "elif Percentage <70 and Percentage >60:\n",
    "    print(\"Grade B\");\n",
    "else:\n",
    "    print(\"You are Fail\");"
   ]
  },
  {
   "cell_type": "code",
   "execution_count": 34,
   "id": "6a3ba05b",
   "metadata": {},
   "outputs": [
    {
     "name": "stdout",
     "output_type": "stream",
     "text": [
      "eng90\n",
      "isl90\n",
      "math90\n"
     ]
    },
    {
     "ename": "TypeError",
     "evalue": "unsupported operand type(s) for /: 'str' and 'int'",
     "output_type": "error",
     "traceback": [
      "\u001b[1;31m---------------------------------------------------------------------------\u001b[0m",
      "\u001b[1;31mTypeError\u001b[0m                                 Traceback (most recent call last)",
      "\u001b[1;32m<ipython-input-34-493c8da293bd>\u001b[0m in \u001b[0;36m<module>\u001b[1;34m\u001b[0m\n\u001b[0;32m      4\u001b[0m \u001b[0mObtain_Marks\u001b[0m \u001b[1;33m=\u001b[0m \u001b[0meng\u001b[0m \u001b[1;33m+\u001b[0m \u001b[0misl\u001b[0m \u001b[1;33m+\u001b[0m \u001b[0mmath\u001b[0m\u001b[1;33m\u001b[0m\u001b[1;33m\u001b[0m\u001b[0m\n\u001b[0;32m      5\u001b[0m \u001b[0mTotal_Marks\u001b[0m \u001b[1;33m=\u001b[0m \u001b[1;36m300\u001b[0m\u001b[1;33m\u001b[0m\u001b[1;33m\u001b[0m\u001b[0m\n\u001b[1;32m----> 6\u001b[1;33m \u001b[0mPercentage\u001b[0m \u001b[1;33m=\u001b[0m \u001b[0mObtain_Marks\u001b[0m\u001b[1;33m/\u001b[0m\u001b[0mTotal_Marks\u001b[0m \u001b[1;33m*\u001b[0m \u001b[1;36m100\u001b[0m\u001b[1;33m\u001b[0m\u001b[1;33m\u001b[0m\u001b[0m\n\u001b[0m\u001b[0;32m      7\u001b[0m \u001b[0mprint\u001b[0m\u001b[1;33m(\u001b[0m\u001b[0mObtain_Marks\u001b[0m\u001b[1;33m)\u001b[0m\u001b[1;33m;\u001b[0m\u001b[1;33m\u001b[0m\u001b[1;33m\u001b[0m\u001b[0m\n\u001b[0;32m      8\u001b[0m \u001b[0mprint\u001b[0m\u001b[1;33m(\u001b[0m\u001b[0mTotal_Marks\u001b[0m\u001b[1;33m)\u001b[0m\u001b[1;33m;\u001b[0m\u001b[1;33m\u001b[0m\u001b[1;33m\u001b[0m\u001b[0m\n",
      "\u001b[1;31mTypeError\u001b[0m: unsupported operand type(s) for /: 'str' and 'int'"
     ]
    }
   ],
   "source": [
    "eng = input (\"eng\");\n",
    "isl = input (\"isl\");\n",
    "math = input (\"math\");\n",
    "Obtain_Marks = eng + isl + math\n",
    "Total_Marks = 300\n",
    "Percentage = Obtain_Marks/Total_Marks * 100\n",
    "print(Obtain_Marks);\n",
    "print(Total_Marks);\n",
    "print (Percentage);\n",
    "if Percentage <100 and Percentage >80:\n",
    "    print(\"Grade A1\");\n",
    "elif Percentage <80 and Percentage >70:\n",
    "    print(\"Grade A\");\n",
    "elif Percentage <70 and Percentage >60:\n",
    "    print(\"Grade B\");\n",
    "else:\n",
    "    print(\"You are Fail\");"
   ]
  },
  {
   "cell_type": "code",
   "execution_count": 35,
   "id": "a81ed943",
   "metadata": {},
   "outputs": [
    {
     "name": "stdout",
     "output_type": "stream",
     "text": [
      "enter value90\n",
      "115\n"
     ]
    }
   ],
   "source": [
    "x = int(input(\"enter value\"));\n",
    "y = 25\n",
    "z = x + y;\n",
    "print (z);"
   ]
  },
  {
   "cell_type": "code",
   "execution_count": 36,
   "id": "c980968b",
   "metadata": {},
   "outputs": [
    {
     "name": "stdout",
     "output_type": "stream",
     "text": [
      "enter value5\n",
      "30\n"
     ]
    }
   ],
   "source": [
    "x = input(\"enter value\");\n",
    "y = 25\n",
    "z = int(x) + y;\n",
    "print(z);"
   ]
  },
  {
   "cell_type": "code",
   "execution_count": 37,
   "id": "e4445b7e",
   "metadata": {},
   "outputs": [
    {
     "name": "stdout",
     "output_type": "stream",
     "text": [
      "enter value5\n"
     ]
    },
    {
     "ename": "TypeError",
     "evalue": "can only concatenate str (not \"int\") to str",
     "output_type": "error",
     "traceback": [
      "\u001b[1;31m---------------------------------------------------------------------------\u001b[0m",
      "\u001b[1;31mTypeError\u001b[0m                                 Traceback (most recent call last)",
      "\u001b[1;32m<ipython-input-37-1abfaf1352c8>\u001b[0m in \u001b[0;36m<module>\u001b[1;34m\u001b[0m\n\u001b[0;32m      1\u001b[0m \u001b[0mx\u001b[0m \u001b[1;33m=\u001b[0m \u001b[0minput\u001b[0m\u001b[1;33m(\u001b[0m\u001b[1;34m\"enter value\"\u001b[0m\u001b[1;33m)\u001b[0m\u001b[1;33m;\u001b[0m\u001b[1;33m\u001b[0m\u001b[1;33m\u001b[0m\u001b[0m\n\u001b[0;32m      2\u001b[0m \u001b[0my\u001b[0m \u001b[1;33m=\u001b[0m \u001b[1;36m25\u001b[0m\u001b[1;33m\u001b[0m\u001b[1;33m\u001b[0m\u001b[0m\n\u001b[1;32m----> 3\u001b[1;33m \u001b[0mz\u001b[0m \u001b[1;33m=\u001b[0m \u001b[0mx\u001b[0m \u001b[1;33m+\u001b[0m \u001b[0my\u001b[0m\u001b[1;33m;\u001b[0m\u001b[1;33m\u001b[0m\u001b[1;33m\u001b[0m\u001b[0m\n\u001b[0m\u001b[0;32m      4\u001b[0m \u001b[0mprint\u001b[0m\u001b[1;33m(\u001b[0m\u001b[0mz\u001b[0m\u001b[1;33m)\u001b[0m\u001b[1;33m;\u001b[0m\u001b[1;33m\u001b[0m\u001b[1;33m\u001b[0m\u001b[0m\n",
      "\u001b[1;31mTypeError\u001b[0m: can only concatenate str (not \"int\") to str"
     ]
    }
   ],
   "source": [
    "x = input(\"enter value\");\n",
    "y = 25\n",
    "z = x + y;\n",
    "print(z);"
   ]
  },
  {
   "cell_type": "code",
   "execution_count": 38,
   "id": "ac612420",
   "metadata": {},
   "outputs": [
    {
     "name": "stdout",
     "output_type": "stream",
     "text": [
      "enter valueamir\n"
     ]
    },
    {
     "ename": "TypeError",
     "evalue": "can only concatenate str (not \"int\") to str",
     "output_type": "error",
     "traceback": [
      "\u001b[1;31m---------------------------------------------------------------------------\u001b[0m",
      "\u001b[1;31mTypeError\u001b[0m                                 Traceback (most recent call last)",
      "\u001b[1;32m<ipython-input-38-1abfaf1352c8>\u001b[0m in \u001b[0;36m<module>\u001b[1;34m\u001b[0m\n\u001b[0;32m      1\u001b[0m \u001b[0mx\u001b[0m \u001b[1;33m=\u001b[0m \u001b[0minput\u001b[0m\u001b[1;33m(\u001b[0m\u001b[1;34m\"enter value\"\u001b[0m\u001b[1;33m)\u001b[0m\u001b[1;33m;\u001b[0m\u001b[1;33m\u001b[0m\u001b[1;33m\u001b[0m\u001b[0m\n\u001b[0;32m      2\u001b[0m \u001b[0my\u001b[0m \u001b[1;33m=\u001b[0m \u001b[1;36m25\u001b[0m\u001b[1;33m\u001b[0m\u001b[1;33m\u001b[0m\u001b[0m\n\u001b[1;32m----> 3\u001b[1;33m \u001b[0mz\u001b[0m \u001b[1;33m=\u001b[0m \u001b[0mx\u001b[0m \u001b[1;33m+\u001b[0m \u001b[0my\u001b[0m\u001b[1;33m;\u001b[0m\u001b[1;33m\u001b[0m\u001b[1;33m\u001b[0m\u001b[0m\n\u001b[0m\u001b[0;32m      4\u001b[0m \u001b[0mprint\u001b[0m\u001b[1;33m(\u001b[0m\u001b[0mz\u001b[0m\u001b[1;33m)\u001b[0m\u001b[1;33m;\u001b[0m\u001b[1;33m\u001b[0m\u001b[1;33m\u001b[0m\u001b[0m\n",
      "\u001b[1;31mTypeError\u001b[0m: can only concatenate str (not \"int\") to str"
     ]
    }
   ],
   "source": [
    "x = input(\"enter value\");\n",
    "y = 25\n",
    "z = x + y;\n",
    "print(z);"
   ]
  },
  {
   "cell_type": "code",
   "execution_count": 39,
   "id": "5db40639",
   "metadata": {},
   "outputs": [
    {
     "name": "stdout",
     "output_type": "stream",
     "text": [
      "enter value amir\n",
      " amirKhan\n"
     ]
    }
   ],
   "source": [
    "x = input(\"enter value\");\n",
    "y = \"Khan\"\n",
    "z = x + y;\n",
    "print(z);"
   ]
  },
  {
   "cell_type": "code",
   "execution_count": null,
   "id": "c2b2c788",
   "metadata": {},
   "outputs": [],
   "source": []
  },
  {
   "cell_type": "code",
   "execution_count": 40,
   "id": "21a96f83",
   "metadata": {},
   "outputs": [
    {
     "name": "stdout",
     "output_type": "stream",
     "text": [
      "amir khan\n"
     ]
    }
   ],
   "source": [
    "print (\"amir khan\");"
   ]
  },
  {
   "cell_type": "code",
   "execution_count": 41,
   "id": "ed8fcf12",
   "metadata": {},
   "outputs": [
    {
     "name": "stdout",
     "output_type": "stream",
     "text": [
      "amir \n",
      " khan\n"
     ]
    }
   ],
   "source": [
    "print (\"amir \\n khan\");"
   ]
  },
  {
   "cell_type": "code",
   "execution_count": 42,
   "id": "5c06365d",
   "metadata": {},
   "outputs": [
    {
     "name": "stdout",
     "output_type": "stream",
     "text": [
      "amir \n",
      "khan\n"
     ]
    }
   ],
   "source": [
    "print (\"amir \\nkhan\");"
   ]
  },
  {
   "cell_type": "code",
   "execution_count": 43,
   "id": "5d510a60",
   "metadata": {},
   "outputs": [
    {
     "ename": "SyntaxError",
     "evalue": "invalid syntax (<ipython-input-43-5ebfbc1155da>, line 1)",
     "output_type": "error",
     "traceback": [
      "\u001b[1;36m  File \u001b[1;32m\"<ipython-input-43-5ebfbc1155da>\"\u001b[1;36m, line \u001b[1;32m1\u001b[0m\n\u001b[1;33m    x = 3xx2\u001b[0m\n\u001b[1;37m         ^\u001b[0m\n\u001b[1;31mSyntaxError\u001b[0m\u001b[1;31m:\u001b[0m invalid syntax\n"
     ]
    }
   ],
   "source": [
    "x = 3xx2\n",
    "print (x);"
   ]
  },
  {
   "cell_type": "code",
   "execution_count": 44,
   "id": "2d9abd8c",
   "metadata": {},
   "outputs": [
    {
     "name": "stdout",
     "output_type": "stream",
     "text": [
      "9\n"
     ]
    }
   ],
   "source": [
    "x = 3**2\n",
    "print (x);"
   ]
  },
  {
   "cell_type": "code",
   "execution_count": 45,
   "id": "52d04aeb",
   "metadata": {},
   "outputs": [
    {
     "name": "stdout",
     "output_type": "stream",
     "text": [
      "6\n"
     ]
    }
   ],
   "source": [
    "x = 3*2\n",
    "print (x);"
   ]
  },
  {
   "cell_type": "code",
   "execution_count": 46,
   "id": "deef3805",
   "metadata": {},
   "outputs": [
    {
     "name": "stdout",
     "output_type": "stream",
     "text": [
      "27\n"
     ]
    }
   ],
   "source": [
    "x = 3**3\n",
    "print (x);"
   ]
  },
  {
   "cell_type": "code",
   "execution_count": 47,
   "id": "e7406cff",
   "metadata": {},
   "outputs": [
    {
     "name": "stdout",
     "output_type": "stream",
     "text": [
      "81\n"
     ]
    }
   ],
   "source": [
    "x = 3**4\n",
    "print (x);"
   ]
  },
  {
   "cell_type": "code",
   "execution_count": 48,
   "id": "4943e225",
   "metadata": {},
   "outputs": [
    {
     "ename": "NameError",
     "evalue": "name 'prin' is not defined",
     "output_type": "error",
     "traceback": [
      "\u001b[1;31m---------------------------------------------------------------------------\u001b[0m",
      "\u001b[1;31mNameError\u001b[0m                                 Traceback (most recent call last)",
      "\u001b[1;32m<ipython-input-48-8fadace8bcb0>\u001b[0m in \u001b[0;36m<module>\u001b[1;34m\u001b[0m\n\u001b[0;32m      6\u001b[0m     \u001b[0mprint\u001b[0m\u001b[1;33m(\u001b[0m\u001b[0mtrue\u001b[0m\u001b[1;33m)\u001b[0m\u001b[1;33m;\u001b[0m\u001b[1;33m\u001b[0m\u001b[1;33m\u001b[0m\u001b[0m\n\u001b[0;32m      7\u001b[0m \u001b[1;32melse\u001b[0m\u001b[1;33m:\u001b[0m\u001b[1;33m\u001b[0m\u001b[1;33m\u001b[0m\u001b[0m\n\u001b[1;32m----> 8\u001b[1;33m     \u001b[0mprin\u001b[0m\u001b[1;33m(\u001b[0m\u001b[0mfalse\u001b[0m\u001b[1;33m)\u001b[0m\u001b[1;33m;\u001b[0m\u001b[1;33m\u001b[0m\u001b[1;33m\u001b[0m\u001b[0m\n\u001b[0m",
      "\u001b[1;31mNameError\u001b[0m: name 'prin' is not defined"
     ]
    }
   ],
   "source": [
    "x = 12\n",
    "y = 12\n",
    "a = 30\n",
    "b = 8\n",
    "if x + y == a - b:\n",
    "    print(true);\n",
    "else:\n",
    "    prin(false);"
   ]
  },
  {
   "cell_type": "code",
   "execution_count": 49,
   "id": "0a277a19",
   "metadata": {},
   "outputs": [
    {
     "ename": "NameError",
     "evalue": "name 'false' is not defined",
     "output_type": "error",
     "traceback": [
      "\u001b[1;31m---------------------------------------------------------------------------\u001b[0m",
      "\u001b[1;31mNameError\u001b[0m                                 Traceback (most recent call last)",
      "\u001b[1;32m<ipython-input-49-a69e328b4be2>\u001b[0m in \u001b[0;36m<module>\u001b[1;34m\u001b[0m\n\u001b[0;32m      6\u001b[0m     \u001b[0mprint\u001b[0m\u001b[1;33m(\u001b[0m\u001b[0mtrue\u001b[0m\u001b[1;33m)\u001b[0m\u001b[1;33m;\u001b[0m\u001b[1;33m\u001b[0m\u001b[1;33m\u001b[0m\u001b[0m\n\u001b[0;32m      7\u001b[0m \u001b[1;32melse\u001b[0m\u001b[1;33m:\u001b[0m\u001b[1;33m\u001b[0m\u001b[1;33m\u001b[0m\u001b[0m\n\u001b[1;32m----> 8\u001b[1;33m     \u001b[0mprint\u001b[0m\u001b[1;33m(\u001b[0m\u001b[0mfalse\u001b[0m\u001b[1;33m)\u001b[0m\u001b[1;33m;\u001b[0m\u001b[1;33m\u001b[0m\u001b[1;33m\u001b[0m\u001b[0m\n\u001b[0m",
      "\u001b[1;31mNameError\u001b[0m: name 'false' is not defined"
     ]
    }
   ],
   "source": [
    "x = 12:\n",
    "y = 12:\n",
    "a = 30:\n",
    "b = 8:\n",
    "if x + y == a - b:\n",
    "    print(true);\n",
    "else:\n",
    "    print(false);"
   ]
  },
  {
   "cell_type": "code",
   "execution_count": 50,
   "id": "8347b066",
   "metadata": {},
   "outputs": [
    {
     "ename": "SyntaxError",
     "evalue": "invalid syntax (<ipython-input-50-ae14009da340>, line 1)",
     "output_type": "error",
     "traceback": [
      "\u001b[1;36m  File \u001b[1;32m\"<ipython-input-50-ae14009da340>\"\u001b[1;36m, line \u001b[1;32m1\u001b[0m\n\u001b[1;33m    x = 12:\u001b[0m\n\u001b[1;37m          ^\u001b[0m\n\u001b[1;31mSyntaxError\u001b[0m\u001b[1;31m:\u001b[0m invalid syntax\n"
     ]
    }
   ],
   "source": [
    "x = 12\n",
    "y = 12\n",
    "a = 30\n",
    "b = 8\n",
    "if x+y == a-b:\n",
    "    print(true);\n",
    "else:\n",
    "    print(false);"
   ]
  },
  {
   "cell_type": "code",
   "execution_count": 51,
   "id": "b048dce5",
   "metadata": {},
   "outputs": [
    {
     "ename": "NameError",
     "evalue": "name 'false' is not defined",
     "output_type": "error",
     "traceback": [
      "\u001b[1;31m---------------------------------------------------------------------------\u001b[0m",
      "\u001b[1;31mNameError\u001b[0m                                 Traceback (most recent call last)",
      "\u001b[1;32m<ipython-input-51-bd0fe1037def>\u001b[0m in \u001b[0;36m<module>\u001b[1;34m\u001b[0m\n\u001b[0;32m      6\u001b[0m     \u001b[0mprint\u001b[0m\u001b[1;33m(\u001b[0m\u001b[0mtrue\u001b[0m\u001b[1;33m)\u001b[0m\u001b[1;33m;\u001b[0m\u001b[1;33m\u001b[0m\u001b[1;33m\u001b[0m\u001b[0m\n\u001b[0;32m      7\u001b[0m \u001b[1;32melse\u001b[0m\u001b[1;33m:\u001b[0m\u001b[1;33m\u001b[0m\u001b[1;33m\u001b[0m\u001b[0m\n\u001b[1;32m----> 8\u001b[1;33m     \u001b[0mprint\u001b[0m\u001b[1;33m(\u001b[0m\u001b[0mfalse\u001b[0m\u001b[1;33m)\u001b[0m\u001b[1;33m;\u001b[0m\u001b[1;33m\u001b[0m\u001b[1;33m\u001b[0m\u001b[0m\n\u001b[0m",
      "\u001b[1;31mNameError\u001b[0m: name 'false' is not defined"
     ]
    }
   ],
   "source": [
    "x = 12\n",
    "y = 12\n",
    "a = 30\n",
    "b = 8\n",
    "if x+y == a-b:\n",
    "    print(true);\n",
    "else:\n",
    "    print(false);"
   ]
  },
  {
   "cell_type": "code",
   "execution_count": 53,
   "id": "3d8300c1",
   "metadata": {},
   "outputs": [
    {
     "name": "stdout",
     "output_type": "stream",
     "text": [
      "False\n"
     ]
    }
   ],
   "source": [
    "x = 12\n",
    "y = 12\n",
    "a = 30\n",
    "b = 8\n",
    "if x + y == a - b:\n",
    "    print(True);\n",
    "else:\n",
    "    print(False);"
   ]
  },
  {
   "cell_type": "code",
   "execution_count": 54,
   "id": "651943d6",
   "metadata": {},
   "outputs": [
    {
     "name": "stdout",
     "output_type": "stream",
     "text": [
      "Mark Sheet\n"
     ]
    }
   ],
   "source": [
    "\"\"\"we are designiing the Mark Sheet\"\"\"\n",
    "print (\"Mark Sheet\");"
   ]
  },
  {
   "cell_type": "code",
   "execution_count": 55,
   "id": "ce67098a",
   "metadata": {},
   "outputs": [
    {
     "name": "stdout",
     "output_type": "stream",
     "text": [
      "Isl 80\n",
      "Math 30\n",
      "Eng 60\n",
      "170\n",
      "300\n",
      "56.666666666666664\n",
      "You are Fail\n"
     ]
    }
   ],
   "source": [
    "\"\"\"we are designiing the Mark Sheet\"\"\"\n",
    "Isl = 80\n",
    "Math = 30\n",
    "Eng = 60\n",
    "Obtain_Marks = Isl + Math + Eng\n",
    "Total_Marks = 300\n",
    "Percentage = Obtain_Marks/Total_Marks * 100\n",
    "print(\"Isl 80\");\n",
    "print(\"Math 30\");\n",
    "print(\"Eng 60\");\n",
    "print(Obtain_Marks);\n",
    "print(Total_Marks);\n",
    "print (Percentage);\n",
    "if Percentage <100 and Percentage >80:\n",
    "    print(\"Grade A1\");\n",
    "elif Percentage <80 and Percentage >70:\n",
    "    print(\"Grade A\");\n",
    "elif Percentage <70 and Percentage >60:\n",
    "    print(\"Grade B\");\n",
    "else:\n",
    "    print(\"You are Fail\");"
   ]
  },
  {
   "cell_type": "code",
   "execution_count": null,
   "id": "efc91741",
   "metadata": {},
   "outputs": [],
   "source": []
  }
 ],
 "metadata": {
  "kernelspec": {
   "display_name": "Python 3",
   "language": "python",
   "name": "python3"
  },
  "language_info": {
   "codemirror_mode": {
    "name": "ipython",
    "version": 3
   },
   "file_extension": ".py",
   "mimetype": "text/x-python",
   "name": "python",
   "nbconvert_exporter": "python",
   "pygments_lexer": "ipython3",
   "version": "3.8.8"
  }
 },
 "nbformat": 4,
 "nbformat_minor": 5
}
